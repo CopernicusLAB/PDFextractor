{
 "cells": [
  {
   "cell_type": "code",
   "execution_count": null,
   "metadata": {},
   "outputs": [],
   "source": [
    "##Programa para la extracción de datos de PDFs"
   ]
  },
  {
   "cell_type": "code",
   "execution_count": 3,
   "metadata": {},
   "outputs": [],
   "source": [
    "import PyPDF2\n",
    "import os\n",
    "\n",
    "\n",
    "pdfFileObj = open(str(os.getcwd())+ '/automate_online-materials/meetingminutes.pdf','rb')\n",
    "\n",
    "pdfReader = PyPDF2.PdfFileReader(pdfFileObj)\n",
    "pdfReader.numPages\n",
    "pageObj=pdfReader.getPage(0)\n",
    "pageObj.extractText()"
   ]
  },
  {
   "cell_type": "code",
   "execution_count": 3,
   "metadata": {},
   "outputs": [],
   "source": [
    "## Para pdf's con password\n",
    "pdfReader=PyPDF2.PdfFileReader(open(str(os.getcwd())+ '/automate_online-materials/encrypted.pdf','rb'))\n",
    "pdfReader.isEncrypted\n",
    "pdfReader.decrypt('rosebud')\n",
    "\"\"\".decrypt sólo desencripta el pdfobject no el pdf que hay en el disco duro\"\"\"\n",
    "pdfReader.getPage(0);"
   ]
  },
  {
   "cell_type": "code",
   "execution_count": 15,
   "metadata": {},
   "outputs": [],
   "source": [
    "## Crear pdf's a partir de otros pdf's ya existentes\n",
    "pdf1File = open(str(os.getcwd())+ '/automate_online-materials/meetingminutes.pdf','rb')\n",
    "pdf2File = open(str(os.getcwd())+ '/automate_online-materials/meetingminutes2.pdf','rb')"
   ]
  },
  {
   "cell_type": "code",
   "execution_count": 18,
   "metadata": {},
   "outputs": [],
   "source": [
    "pdf1Reader = PyPDF2.PdfFileReader(pdf1File)\n",
    "pdf2Reader = PyPDF2.PdfFileReader(pdf2File)\n",
    "pdfWriter = PyPDF2.PdfFileWriter()\n",
    "\n",
    "for pageNum in range(pdf1Reader.numPages):\n",
    "    pageObj = pdf1Reader.getPage(pageNum)\n",
    "    pdfWriter.addPage(pageObj)\n",
    "\"\"\"El metodo .addPage añade al final de pdfWriter cada pageObj\"\"\"\n",
    "\n",
    "for pageNum in range(pdf1Reader.numPages):\n",
    "    pageObj = pdf1Reader.getPage(pageNum)\n",
    "    pdfWriter.addPage(pageObj)\n",
    "    \n",
    "pdfOutputFile = open(str(os.getcwd())+ '/automate_online-materials/combinedminutesJavi.pdf','wb')\n",
    "\"\"\"wb = write binary\"\"\"\n",
    "\n",
    "pdfWriter.write(pdfOutputFile)\n",
    "pdfOutputFile.close()\n",
    "pdf1File.close()\n",
    "pdf2File.close()"
   ]
  },
  {
   "cell_type": "code",
   "execution_count": 23,
   "metadata": {},
   "outputs": [],
   "source": [
    "##Rotar paginas de pdf's\n",
    "minutesFile = open(str(os.getcwd())+ '/automate_online-materials/meetingminutes.pdf','rb')\n",
    "pdfReader = PyPDF2.PdfFileReader(minutesFile)\n",
    "page = pdfReader.getPage(0)\n",
    "page.rotateClockwise(90)\n",
    "\n",
    "pdfWriter = PyPDF2.PdfFileWriter()\n",
    "pdfWriter.addPage(page)\n",
    "resultPdfFile = open(str(os.getcwd())+ '/automate_online-materials/rotatedPageJavi.pdf','wb')\n",
    "pdfWriter.write(resultPdfFile)\n",
    "resultPdfFile.close()\n",
    "minutesFile.close()"
   ]
  },
  {
   "cell_type": "code",
   "execution_count": null,
   "metadata": {},
   "outputs": [],
   "source": [
    "## Overlaying pages (util para añadir un logo, una marca temporal o una marca de agua)\n",
    "minutesFile = open(str(os.getcwd())+ '/automate_online-materials/meetingminutes.pdf','rb')\n",
    "pdfReader = PyPDF2.PdfFileReader(minutesFile)\n",
    "minutesFirstPage = pdfReader.getPage(0)\n",
    "pdfWatermarkReader = PyPDF2.PdfFileReader(open(str(os.getcwd())+ '/automate_online-materials/watermark.pdf','rb'))\n",
    "minutesFirstPage."
   ]
  },
  {
   "cell_type": "code",
   "execution_count": 28,
   "metadata": {},
   "outputs": [
    {
     "data": {
      "text/plain": [
       "'/Users/javiermartinez/Anaconda/CopernicusLAB'"
      ]
     },
     "execution_count": 28,
     "metadata": {},
     "output_type": "execute_result"
    }
   ],
   "source": [
    "        \n",
    "os.getcwd()"
   ]
  },
  {
   "cell_type": "code",
   "execution_count": null,
   "metadata": {},
   "outputs": [],
   "source": []
  }
 ],
 "metadata": {
  "kernelspec": {
   "display_name": "Python 3",
   "language": "python",
   "name": "python3"
  },
  "language_info": {
   "codemirror_mode": {
    "name": "ipython",
    "version": 3
   },
   "file_extension": ".py",
   "mimetype": "text/x-python",
   "name": "python",
   "nbconvert_exporter": "python",
   "pygments_lexer": "ipython3",
   "version": "3.6.5"
  }
 },
 "nbformat": 4,
 "nbformat_minor": 2
}
